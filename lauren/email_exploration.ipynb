{
 "cells": [
  {
   "cell_type": "markdown",
   "metadata": {},
   "source": [
    "# Import package dependencies"
   ]
  },
  {
   "cell_type": "code",
   "execution_count": 5,
   "metadata": {},
   "outputs": [],
   "source": [
    "# Built-in/Standard library packages\n",
    "import json\n",
    "import os\n",
    "\n",
    "# Third party packages\n",
    "import pandas as pd"
   ]
  },
  {
   "cell_type": "markdown",
   "metadata": {},
   "source": [
    "# Load emails from json"
   ]
  },
  {
   "cell_type": "code",
   "execution_count": 6,
   "metadata": {},
   "outputs": [],
   "source": [
    "# Define path to JSON file\n",
    "email_json_file = os.path.join('..', 'common', 'allMails.json')\n",
    "\n",
    "# Load the JSON into a pandas dataframe\n",
    "email_df = pd.read_json(email_json_file)"
   ]
  },
  {
   "cell_type": "code",
   "execution_count": 8,
   "metadata": {},
   "outputs": [
    {
     "data": {
      "text/html": [
       "<div>\n",
       "<style scoped>\n",
       "    .dataframe tbody tr th:only-of-type {\n",
       "        vertical-align: middle;\n",
       "    }\n",
       "\n",
       "    .dataframe tbody tr th {\n",
       "        vertical-align: top;\n",
       "    }\n",
       "\n",
       "    .dataframe thead th {\n",
       "        text-align: right;\n",
       "    }\n",
       "</style>\n",
       "<table border=\"1\" class=\"dataframe\">\n",
       "  <thead>\n",
       "    <tr style=\"text-align: right;\">\n",
       "      <th></th>\n",
       "      <th>mailNo</th>\n",
       "      <th>mailId</th>\n",
       "      <th>from</th>\n",
       "      <th>to</th>\n",
       "      <th>date</th>\n",
       "      <th>sent</th>\n",
       "      <th>cc</th>\n",
       "      <th>body</th>\n",
       "    </tr>\n",
       "  </thead>\n",
       "  <tbody>\n",
       "    <tr>\n",
       "      <th>0</th>\n",
       "      <td>1</td>\n",
       "      <td>msp1_1_1</td>\n",
       "      <td>Dunn, Michael J.</td>\n",
       "      <td>Skoczylas, Karen (DOT); Walker, Stephen (DOT)...</td>\n",
       "      <td>Tuesday, December 20, 2016 3:13:54 PM</td>\n",
       "      <td>None</td>\n",
       "      <td>Drouin, Jean</td>\n",
       "      <td>Subject: RE:Thank you, appreciate     SA MICHA...</td>\n",
       "    </tr>\n",
       "    <tr>\n",
       "      <th>1</th>\n",
       "      <td>2</td>\n",
       "      <td>msp1_1_2</td>\n",
       "      <td>Skoczylas, Karen (DOT) [mailto:karen.skoczyla...</td>\n",
       "      <td>Dunn, Michael J.; Walker, Stephen (DOT); MSP-...</td>\n",
       "      <td>Tuesday, December 20, 2016 3:13 PM</td>\n",
       "      <td>None</td>\n",
       "      <td>Drouin, Jean</td>\n",
       "      <td>Subject: RE: Good Afternoon, FR was ran on you...</td>\n",
       "    </tr>\n",
       "    <tr>\n",
       "      <th>2</th>\n",
       "      <td>3</td>\n",
       "      <td>msp1_1_3</td>\n",
       "      <td>Dunn, Michael J. [mailto:Michael.J.Dunn@usdoj...</td>\n",
       "      <td>Walker, Stephen (DOT); MSP-DL - Facial Rec ES</td>\n",
       "      <td>Tuesday, December 20, 2016 3:04 PM</td>\n",
       "      <td>None</td>\n",
       "      <td>Drouin, Jean</td>\n",
       "      <td>Subject: RE: Stephen, thanks a lot     appreci...</td>\n",
       "    </tr>\n",
       "    <tr>\n",
       "      <th>3</th>\n",
       "      <td>4</td>\n",
       "      <td>msp1_2_1</td>\n",
       "      <td>Walker, Stephen (DOT) [mailto:Stephen.Walker@...</td>\n",
       "      <td>Dunn, Michael J.; MSP-DL-FacialRecES@massmail...</td>\n",
       "      <td>Tuesday, December 20, 2016 3:03 PM</td>\n",
       "      <td>None</td>\n",
       "      <td>Drouin, Jean</td>\n",
       "      <td>Subject: RE: Looking into it now.</td>\n",
       "    </tr>\n",
       "    <tr>\n",
       "      <th>4</th>\n",
       "      <td>5</td>\n",
       "      <td>msp1_2_2</td>\n",
       "      <td>Dunn, Michael J. [mailto:Michael.J.Dunn@usdoj...</td>\n",
       "      <td>MSP-DL-FacialRecES@massmail.state.ma.us</td>\n",
       "      <td>Tuesday, December 20, 2016 2:04 PM</td>\n",
       "      <td>None</td>\n",
       "      <td>Drouin, Jean</td>\n",
       "      <td>Subject: Hello, I am requesting a facial recog...</td>\n",
       "    </tr>\n",
       "    <tr>\n",
       "      <th>...</th>\n",
       "      <td>...</td>\n",
       "      <td>...</td>\n",
       "      <td>...</td>\n",
       "      <td>...</td>\n",
       "      <td>...</td>\n",
       "      <td>...</td>\n",
       "      <td>...</td>\n",
       "      <td>...</td>\n",
       "    </tr>\n",
       "    <tr>\n",
       "      <th>3988</th>\n",
       "      <td>3989</td>\n",
       "      <td>fr19_63_1</td>\n",
       "      <td>Atkinson, Dana (POL)</td>\n",
       "      <td>Boyle, Christopher (DOT) &lt;Christopher.P.Boyle...</td>\n",
       "      <td>Monday, August 12, 2019 9:10 AM</td>\n",
       "      <td>None</td>\n",
       "      <td>None</td>\n",
       "      <td>Subject: Facial Rec Good morning Lt, Is there ...</td>\n",
       "    </tr>\n",
       "    <tr>\n",
       "      <th>3989</th>\n",
       "      <td>3990</td>\n",
       "      <td>fr19_64_1</td>\n",
       "      <td>Commonwealth Fusion Center (POL)</td>\n",
       "      <td>Malhotra, Danish (DOT)</td>\n",
       "      <td>Wednesday, August 21, 2019 1:30:27 PM</td>\n",
       "      <td>None</td>\n",
       "      <td>Boyle, Christopher (DOT)</td>\n",
       "      <td>Subject: Fw: identity theftAttachments: DL Inf...</td>\n",
       "    </tr>\n",
       "    <tr>\n",
       "      <th>3990</th>\n",
       "      <td>3991</td>\n",
       "      <td>fr19_64_2</td>\n",
       "      <td>Shawn Ganley &lt;sganley@rahwaypolice.com&gt;</td>\n",
       "      <td>Commonwealth Fusion Center (POL) &lt;fusion@pol....</td>\n",
       "      <td>Wednesday, August 21, 2019 12:47 PM</td>\n",
       "      <td>None</td>\n",
       "      <td>None</td>\n",
       "      <td>Subject: identity theft Good afternoon.  I hav...</td>\n",
       "    </tr>\n",
       "    <tr>\n",
       "      <th>3991</th>\n",
       "      <td>3992</td>\n",
       "      <td>fr19_66_1</td>\n",
       "      <td>Malhotra, Danish (DOT)</td>\n",
       "      <td>Commonwealth Fusion Center (POL)</td>\n",
       "      <td>Wednesday, August 21, 2019 4:49:02 PM</td>\n",
       "      <td>None</td>\n",
       "      <td>Boyle, Christopher (DOT)</td>\n",
       "      <td>Subject: Re: identity theftNo bother at all si...</td>\n",
       "    </tr>\n",
       "    <tr>\n",
       "      <th>3992</th>\n",
       "      <td>3993</td>\n",
       "      <td>fr19_66_2</td>\n",
       "      <td>Shawn Ganley &lt;sganley@rahwaypolice.com&gt;</td>\n",
       "      <td>Commonwealth Fusion Center (POL) &lt;fusion@pol....</td>\n",
       "      <td>Wednesday, August 21, 2019 12:47 PM</td>\n",
       "      <td>None</td>\n",
       "      <td>None</td>\n",
       "      <td>Subject: identity theft Good afternoon.  I hav...</td>\n",
       "    </tr>\n",
       "  </tbody>\n",
       "</table>\n",
       "<p>3993 rows × 8 columns</p>\n",
       "</div>"
      ],
      "text/plain": [
       "      mailNo     mailId                                               from  \\\n",
       "0          1   msp1_1_1                                   Dunn, Michael J.   \n",
       "1          2   msp1_1_2   Skoczylas, Karen (DOT) [mailto:karen.skoczyla...   \n",
       "2          3   msp1_1_3   Dunn, Michael J. [mailto:Michael.J.Dunn@usdoj...   \n",
       "3          4   msp1_2_1   Walker, Stephen (DOT) [mailto:Stephen.Walker@...   \n",
       "4          5   msp1_2_2   Dunn, Michael J. [mailto:Michael.J.Dunn@usdoj...   \n",
       "...      ...        ...                                                ...   \n",
       "3988    3989  fr19_63_1                              Atkinson, Dana (POL)    \n",
       "3989    3990  fr19_64_1                   Commonwealth Fusion Center (POL)   \n",
       "3990    3991  fr19_64_2            Shawn Ganley <sganley@rahwaypolice.com>   \n",
       "3991    3992  fr19_66_1                             Malhotra, Danish (DOT)   \n",
       "3992    3993  fr19_66_2            Shawn Ganley <sganley@rahwaypolice.com>   \n",
       "\n",
       "                                                     to  \\\n",
       "0      Skoczylas, Karen (DOT); Walker, Stephen (DOT)...   \n",
       "1      Dunn, Michael J.; Walker, Stephen (DOT); MSP-...   \n",
       "2         Walker, Stephen (DOT); MSP-DL - Facial Rec ES   \n",
       "3      Dunn, Michael J.; MSP-DL-FacialRecES@massmail...   \n",
       "4               MSP-DL-FacialRecES@massmail.state.ma.us   \n",
       "...                                                 ...   \n",
       "3988   Boyle, Christopher (DOT) <Christopher.P.Boyle...   \n",
       "3989                             Malhotra, Danish (DOT)   \n",
       "3990   Commonwealth Fusion Center (POL) <fusion@pol....   \n",
       "3991                   Commonwealth Fusion Center (POL)   \n",
       "3992   Commonwealth Fusion Center (POL) <fusion@pol....   \n",
       "\n",
       "                                        date  sent                         cc  \\\n",
       "0      Tuesday, December 20, 2016 3:13:54 PM  None               Drouin, Jean   \n",
       "1         Tuesday, December 20, 2016 3:13 PM  None               Drouin, Jean   \n",
       "2         Tuesday, December 20, 2016 3:04 PM  None               Drouin, Jean   \n",
       "3         Tuesday, December 20, 2016 3:03 PM  None               Drouin, Jean   \n",
       "4         Tuesday, December 20, 2016 2:04 PM  None               Drouin, Jean   \n",
       "...                                      ...   ...                        ...   \n",
       "3988         Monday, August 12, 2019 9:10 AM  None                       None   \n",
       "3989   Wednesday, August 21, 2019 1:30:27 PM  None   Boyle, Christopher (DOT)   \n",
       "3990     Wednesday, August 21, 2019 12:47 PM  None                       None   \n",
       "3991   Wednesday, August 21, 2019 4:49:02 PM  None   Boyle, Christopher (DOT)   \n",
       "3992     Wednesday, August 21, 2019 12:47 PM  None                       None   \n",
       "\n",
       "                                                   body  \n",
       "0     Subject: RE:Thank you, appreciate     SA MICHA...  \n",
       "1     Subject: RE: Good Afternoon, FR was ran on you...  \n",
       "2     Subject: RE: Stephen, thanks a lot     appreci...  \n",
       "3                    Subject: RE: Looking into it now.   \n",
       "4     Subject: Hello, I am requesting a facial recog...  \n",
       "...                                                 ...  \n",
       "3988  Subject: Facial Rec Good morning Lt, Is there ...  \n",
       "3989  Subject: Fw: identity theftAttachments: DL Inf...  \n",
       "3990  Subject: identity theft Good afternoon.  I hav...  \n",
       "3991  Subject: Re: identity theftNo bother at all si...  \n",
       "3992  Subject: identity theft Good afternoon.  I hav...  \n",
       "\n",
       "[3993 rows x 8 columns]"
      ]
     },
     "execution_count": 8,
     "metadata": {},
     "output_type": "execute_result"
    }
   ],
   "source": [
    "# Examine the dataframe\n",
    "email_df"
   ]
  },
  {
   "cell_type": "code",
   "execution_count": 77,
   "metadata": {},
   "outputs": [
    {
     "name": "stdout",
     "output_type": "stream",
     "text": [
      "Subject: RE:Thank you, appreciate     SA MICHAEL DUNNBOSTON FIELD DIVISION   \n",
      "\n",
      "Subject: RE: Good Afternoon, FR was ran on your subject and no matches were found at this time. Respectfully, Karen M. SkoczylasMASS DOT-RMV/Enforcement ServicesMassachusetts State Policend10 Park Plaza, 2  FloorBoston, Mass 02116Phone - 857-368-8605Fax - 857-368-0645 \n",
      "\n",
      "Subject: RE: Stephen, thanks a lot     appreciate    SA MICHAEL DUNNBOSTON FIELD DIVISION   \n",
      "\n",
      "Subject: RE: Looking into it now. \n",
      "\n",
      "Subject: Hello, I am requesting a facial recognition on the attached picture, below is what we have on him. Thank you for your assistance, any questions call my cell which is listed below or email   thank you -             SA MICHAEL DUNNBOSTON FIELD DIVISION   \n",
      "\n",
      "Subject: RE:Thank you, appreciate     SA MICHAEL DUNNBOSTON FIELD DIVISION   \n",
      "\n",
      "Subject: RE: Good Afternoon, FR was ran on your subject and no matches were found at this time. Respectfully, Karen M. SkoczylasMASS DOT-RMV/Enforcement ServicesMassachusetts State Policend10 Park Plaza, 2  FloorBoston, Mass 02116Phone - 857-368-8605Fax - 857-368-0645 \n",
      "\n",
      "Subject: RE: Stephen, thanks a lot     appreciate    SA MICHAEL DUNNBOSTON FIELD DIVISION   \n",
      "\n",
      "Subject: RE: Looking into it now. \n",
      "\n",
      "Subject: Hello, I am requesting a facial recognition on the attached picture, below is what we have on him. Thank you for your assistance, any questions call my cell which is listed below or email   thank you -             SA MICHAEL DUNNBOSTON FIELD DIVISION   \n",
      "\n"
     ]
    }
   ],
   "source": [
    "# Look at the body text of the first 10 emails\n",
    "for email_body in email_df.body[:10].values:\n",
    "    print(email_body)\n",
    "    print()"
   ]
  },
  {
   "cell_type": "markdown",
   "metadata": {},
   "source": [
    "# Keywords"
   ]
  },
  {
   "cell_type": "markdown",
   "metadata": {},
   "source": [
    "## \"Protest\"'"
   ]
  },
  {
   "cell_type": "code",
   "execution_count": 78,
   "metadata": {},
   "outputs": [
    {
     "name": "stdout",
     "output_type": "stream",
     "text": [
      "0\n"
     ]
    }
   ],
   "source": [
    "# How often does the word \"protest\" appear in all emails?\n",
    "protest_in_body = email_df.body.str.contains(\"protest\")\n",
    "print(len(email_df[protest_in_body]))"
   ]
  },
  {
   "cell_type": "markdown",
   "metadata": {},
   "source": [
    "## \"Gathering\""
   ]
  },
  {
   "cell_type": "code",
   "execution_count": 107,
   "metadata": {},
   "outputs": [
    {
     "name": "stdout",
     "output_type": "stream",
     "text": [
      "2\n"
     ]
    }
   ],
   "source": [
    "# How often does the word \"gathering\" appear in all emails?\n",
    "gathering_in_body = email_df.body.str.contains(\"gathering\")\n",
    "print(len(email_df[gathering_in_body]))"
   ]
  },
  {
   "cell_type": "code",
   "execution_count": 112,
   "metadata": {},
   "outputs": [
    {
     "name": "stdout",
     "output_type": "stream",
     "text": [
      "Subject: Facial Recognition RequestAttachments: .JPGI would like to request a facial recognition on the following: Case #: Name:  DOB:  and MA RMV #: AKA:           DOB:           SSN:  Subject is believed to be a   who claimed to be   I am gathering evidence to  I can be contacted at the numbers listed below. Thank you. Kevin M. Williams (ID #: D00347)  \n",
      "\n",
      "Subject: Facial Recognition Request I would like to request a facial recognition on the following: Case #: Name:  DOB: .MA RMV #:  AKA:                      Subject is believed to be a   I am gathering evidence    . I can be contacted at the numbers listed below. Thank you. Kevin M. Williams (ID #: D00347)DHS/ICE/ERO \n",
      "\n"
     ]
    }
   ],
   "source": [
    "for email_body in email_df[gathering_in_body].body.values:\n",
    "    print(email_body)\n",
    "    print()"
   ]
  },
  {
   "cell_type": "markdown",
   "metadata": {},
   "source": [
    "## \"Refuse\""
   ]
  },
  {
   "cell_type": "code",
   "execution_count": 123,
   "metadata": {
    "scrolled": false
   },
   "outputs": [
    {
     "name": "stdout",
     "output_type": "stream",
     "text": [
      "0\n"
     ]
    }
   ],
   "source": [
    "# How often does the word \"refuse\" appear in all emails?\n",
    "refuse_in_body = email_df.body.str.contains(\"refuse\")\n",
    "print(len(email_df[refuse_in_body]))"
   ]
  },
  {
   "cell_type": "markdown",
   "metadata": {},
   "source": [
    "## \"Karen\""
   ]
  },
  {
   "cell_type": "code",
   "execution_count": 106,
   "metadata": {},
   "outputs": [
    {
     "name": "stdout",
     "output_type": "stream",
     "text": [
      "319\n"
     ]
    }
   ],
   "source": [
    "# How often is \"Karen\" the sender?\n",
    "from_Karen = email_df[\"from\"].str.contains(\"Karen\")\n",
    "print(len(email_df[from_Karen]))"
   ]
  },
  {
   "cell_type": "code",
   "execution_count": 92,
   "metadata": {},
   "outputs": [
    {
     "name": "stdout",
     "output_type": "stream",
     "text": [
      "Subject: RE: Good Afternoon, FR was ran on your subject and no matches were found at this time. Respectfully, Karen M. SkoczylasMASS DOT-RMV/Enforcement ServicesMassachusetts State Policend10 Park Plaza, 2  FloorBoston, Mass 02116Phone - 857-368-8605Fax - 857-368-0645 \n",
      "\n",
      "Subject: RE: Good Afternoon, FR was ran on your subject and no matches were found at this time. Respectfully, Karen M. SkoczylasMASS DOT-RMV/Enforcement ServicesMassachusetts State Policend10 Park Plaza, 2  FloorBoston, Mass 02116Phone - 857-368-8605Fax - 857-368-0645 \n",
      "\n",
      "Subject: RE:Good Afternoon, FR was ran on your subject and no matches were found at this time. Respectfully, Karen M. SkoczylasMASS DOT-RMV/Enforcement ServicesMassachusetts State Policend10 Park Plaza, 2  FloorBoston, Mass 02116Phone - 857-368-8605Fax - 857-368-0645 \n",
      "\n",
      "Subject: RE:Good Afternoon, FR was ran on your subject and no matches were found at this time. Respectfully, Karen M. SkoczylasMASS DOT-RMV/Enforcement ServicesMassachusetts State Policend10 Park Plaza, 2  FloorBoston, Mass 02116Phone - 857-368-8605Fax - 857-368-0645 \n",
      "\n",
      "Subject: RE:Attachments: Access to the Facial Recognition E-Mail Address 2016.docLt. Conley, What type of investigation is it? Could you also provide your contact info? Attached is the facial recform with all the instructions. Respectfully, Karen M. SkoczylasMASS DOT-RMV/Enforcement ServicesMassachusetts State Policend10 Park Plaza, 2  FloorBoston, Mass 02116Phone - 857-368-8605Fax - 857-368-0645 \n",
      "\n",
      "Subject: RE:Attachments: Access to the Facial Recognition E-Mail Address 2016.docLt. Conley, What type of investigation is it? Could you also provide your contact info? Attached is the facial recform with all the instructions. Respectfully, Karen M. SkoczylasMASS DOT-RMV/Enforcement ServicesMassachusetts State Policend10 Park Plaza, 2  FloorBoston, Mass 02116Phone - 857-368-8605Fax - 857-368-0645 \n",
      "\n",
      "Subject: RE: 3rd PictureLT. Charles Atchison, Facial rec was ran on your subject. No match was found at this time. Respectfully, Karen M. SkoczylasMASS DOT-RMV/Enforcement ServicesMassachusetts State Policend10 Park Plaza, 2  FloorBoston, Mass 02116Phone - 857-368-8605Fax - 857-368-0645 \n",
      "\n",
      "Subject: RE:   Photos for FRGood Morning, FR WAS RAN ON ALL THREE PHOTOS AND NO MATCHES WERE FOUND AT THIS TIME. Respectfully, Karen M. SkoczylasMASS DOT-RMV/Enforcement ServicesMassachusetts State Policend10 Park Plaza, 2  FloorBoston, Mass 02116Phone - 857-368-8605Fax - 857-368-0645 \n",
      "\n",
      "Subject: RE: Good Morning, FR WAS RAN ON ALL THREE PHOTOS AND NO MATCHES WERE FOUND AT THIS TIME. Respectfully, Karen M. SkoczylasMASS DOT-RMV/Enforcement ServicesMassachusetts State Policend10 Park Plaza, 2  FloorBoston, Mass 02116Phone - 857-368-8605Fax - 857-368-0645 \n",
      "\n",
      "Subject: RE: Attachments: 2014 FR Request Form.docNot a problem. Whenever you make a request if you can ever provide possible names, location, age,and what type of investigation it always helps. Pretty much as much information as possible.Attached I have a facial recognition sheet that explains the process and guidelines. Hope this helpsfor any future cases and good luck. Respectfully, Karen M. SkoczylasMASS DOT-RMV/Enforcement ServicesMassachusetts State Policend10 Park Plaza, 2  FloorBoston, Mass 02116Phone - 857-368-8605Fax - 857-368-0645  Respectfully, Karen M. SkoczylasMASS DOT-RMV/Enforcement ServicesMassachusetts State Policend10 Park Plaza, 2  FloorBoston, Mass 02116Phone - 857-368-8605Fax - 857-368-0645 \n",
      "\n"
     ]
    }
   ],
   "source": [
    "# Look at the body text of Karen's first 10 emails\n",
    "for email_body in email_df[from_Karen].body[:10].values:\n",
    "    print(email_body)\n",
    "    print()"
   ]
  },
  {
   "cell_type": "markdown",
   "metadata": {},
   "source": [
    "# How to determine a request?"
   ]
  },
  {
   "cell_type": "code",
   "execution_count": 93,
   "metadata": {
    "scrolled": false
   },
   "outputs": [
    {
     "name": "stdout",
     "output_type": "stream",
     "text": [
      "1208\n"
     ]
    }
   ],
   "source": [
    "# How often does the word \"request\" appear in all emails?\n",
    "request_in_body = email_df.body.str.contains(\"request\")\n",
    "print(len(email_df[request_in_body]))"
   ]
  },
  {
   "cell_type": "code",
   "execution_count": 94,
   "metadata": {},
   "outputs": [
    {
     "name": "stdout",
     "output_type": "stream",
     "text": [
      "Subject: Hello, I am requesting a facial recognition on the attached picture, below is what we have on him. Thank you for your assistance, any questions call my cell which is listed below or email   thank you -             SA MICHAEL DUNNBOSTON FIELD DIVISION   \n",
      "\n",
      "Subject: Hello, I am requesting a facial recognition on the attached picture, below is what we have on him. Thank you for your assistance, any questions call my cell which is listed below or email   thank you -             SA MICHAEL DUNNBOSTON FIELD DIVISION   \n",
      "\n",
      "Subject: Hello, I am requesting a facial recognition on the attached picture, below is what we have on him. Thank you for your assistance, any questions call my cell which is listed below or email   thank you              SA MICHAEL DUNNBOSTON FIELD DIVISION   \n",
      "\n",
      "Subject: Hello, I am requesting a facial recognition on the attached picture, below is what we have on him. Thank you for your assistance, any questions call my cell which is listed below or email   thank you -             SA MICHAEL DUNNBOSTON FIELD DIVISION   \n",
      "\n",
      "Subject: Hello, I am requesting a facial recognition on the attached picture, below is what we have on him. Thank you for your assistance, any questions call my cell which is listed below or email   thank you              SA MICHAEL DUNNBOSTON FIELD DIVISION   \n",
      "\n",
      "Subject: Hello, I am requesting a facial recognition on the attached picture, below is what we have on him. Thank you for your assistance, any questions call my cell which is listed below or email   thank you              SA MICHAEL DUNNBOSTON FIELD DIVISION   \n",
      "\n",
      "Subject: Hello, I am requesting a facial recognition on the attached picture, below is what we have on him. Thank you for your assistance, any questions call my cell which is listed below or email   thank you -             SA MICHAEL DUNNBOSTON FIELD DIVISION   \n",
      "\n",
      "Subject: Hello, I am requesting a facial recognition on the attached picture, below is what we have on him. Thank you for your assistance, any questions call my cell which is listed below or email   thank you -             SA MICHAEL DUNNBOSTON FIELD DIVISION   \n",
      "\n",
      "Attachments: IMG_0045.jpgHello, I am requesting a facial recognition on the attached picture, below is what we have on him. Thank you for your assistance, any questions call my cell which is listed below or email   thank you -             SA MICHAEL DUNNBOSTON FIELD DIVISION   \n",
      "\n",
      "Attachments: IMG_0045.jpgHello, I am requesting a facial recognition on the attached picture, below is what we have on him. Thank you for your assistance, any questions call my cell which is listed below or email   thank you -             SA MICHAEL DUNNBOSTON FIELD DIVISION   \n",
      "\n"
     ]
    }
   ],
   "source": [
    "# Look at the body text of emails with \"request\" in the body\n",
    "for email_body in email_df[request_in_body].body[:10].values:\n",
    "    print(email_body)\n",
    "    print()"
   ]
  },
  {
   "cell_type": "markdown",
   "metadata": {},
   "source": [
    "## Investigating duplicates"
   ]
  },
  {
   "cell_type": "code",
   "execution_count": 98,
   "metadata": {},
   "outputs": [
    {
     "data": {
      "text/plain": [
       "Subject: request forms and info.Good morning Kyle,Here are the forms I told you about, save them to your computer and you can give them to your fellow officers.  Also, you can call my cell phone day or night if you have any questions or need someone check that can’t wait untilmorning.  I am here to help.Be safe.Tpr. Stephen Walker #2033Massachusetts State PoliceCompliance UnitTen Park PlazaBoston, MA. 02116Office 1-857-368-8626Cell 1-857-600-6836Fax 1-857-368-0645Stephen.Walker@DOT.state.ma.usThe preceding email message (including any attachments) contains information that may be confidential, may beprotected by the attorney-client or other applicable privileges, or may constitute non-public information. It isintended to be conveyed only to the designated recipient(s) named above. If you are not an intended recipient of thismessage, please notify the sender by replying to this message and then delete all copies of it from your computersystem. Any use, dissemination, distribution, or reproduction of this message by unintended recipients is notauthorized and may be unlawful.    10\n",
       "Subject: facial recognition request contact information Hello, I work at Law Enforcement Dimensions where we publish manuals for law enforcement officials. Weinclude reference emails and phone numbers. I was hoping you could confirm that this is the emailaddress for police officers to send requests for an image run through the facial recognition system.And that the emergency phone number for the facial recognition team is 857-368-8605. Thanks! Andrea StumpfLaw Enforcement Dimensions, LLC                                                                                                                                                                                                                                                                                                                                                                                                                                                                                                                                                                                                                          8\n",
       "FacialRecES@massmail.state.ma.us>Subject: RE: facial recognition request contact information Hi Andrea, Yes this is all correct information for our unit. Kindly,Eric FalconDOT-RMV/Enforcement ServicesMassachusetts State Policend10 Park Plaza, 2  FloorBoston. Mass 02116Phone-857-368-8605Fax- 857-368-0645                                                                                                                                                                                                                                                                                                                                                                                                                                                                                                                                                                                                                                                                                                                                                                                                                      6\n",
       "Subject: Hello, I am requesting a facial recognition on the attached picture, below is what we have on him. Thank you for your assistance, any questions call my cell which is listed below or email   thank you -             SA MICHAEL DUNNBOSTON FIELD DIVISION                                                                                                                                                                                                                                                                                                                                                                                                                                                                                                                                                                                                                                                                                                                                                                                                                                                                   5\n",
       "ES <MSP-DL-FacialRecES@massmail.state.ma.us>Subject: RE: facial rec Inspector Connerney, Please read attachment for guidelines for requesting facial rec. What type of investigation is it? Anypossible names, ages, location? Thank you. Respectfully, Karen M. SkoczylasMASS DOT-RMV/Enforcement ServicesMassachusetts State Policend10 Park Plaza, 2  FloorBoston, Mass 02116Phone - 857-368-8605Fax - 857-368-0645                                                                                                                                                                                                                                                                                                                                                                                                                                                                                                                                                                                                                                                                                                                5\n",
       "                                                                                                                                                                                                                                                                                                                                                                                                                                                                                                                                                                                                                                                                                                                                                                                                                                                                                                                                                                                                                                                                                                                                     ..\n",
       "Subject: Facial Rec RequestsPursuant to an official investigation   it isrespectfully requested that you conduct facial recoginition on the following two individuals    Thank you for your cooperation. Dana FiandacaCONFIDENTIALITY NOTICE: The information contained in this e-mail message, including any attachments, is for OFFICIALUSE ONLY (OUO) and is for the sole use of the intended recipient(s). Furthermore, this e-mail and its attachments, if any, maycontain LAW ENFORCEMENT SENSITIVE material and is therefore, privileged and confidential. Any unauthorized review, use,disclosure or distribution is prohibited. If you are not the intended recipient, please notify the sender by reply e-mail and deletethe original message and all copies from your computer.                                                                                                                                                                                                                                                                                                                                            1\n",
       "Subject: Facial RecognitionAttachments: lGood morning,I respectfully request facial recognition for the attached photo of a male using the name Thank you,Police Officer Kyle BishopWoonsocket, Rhode Island Police Department                                                                                                                                                                                                                                                                                                                                                                                                                                                                                                                                                                                                                                                                                                                                                                                                                                                                                                        1\n",
       "Subject: Re: Subject for Facial Recognition[image1.JPG]Sent from my iPhoneOn Dec 5, 2017, at 9:08 AM, Falcon, Eric (DOT)<Eric.Falcon@MassMail.State.MA.US<mailto:Eric.Falcon@MassMail.State.MA.US>> wrote:Hello Sir, Do you know if the license used under  was a MASS license?Any information given will be used to assist with your FR request.Kindly,Eric FalconDOT-RMV/Enforcement ServicesMassachusetts State Police10 Park Plaza, 2nd FloorBoston. Mass 02116Phone-857-368-8605Fax- 857-368-0645                                                                                                                                                                                                                                                                                                                                                                                                                                                                                                                                                                                                                                1\n",
       "Subject: FW:   pic Jaime, Can you request facial recognition for this target.  We had a   DL with DOB  butCoplink and Clear have   for a DOB/  The PDF has all the information on him and the photois the second attachment. Side note did we have any luck with the other facial request that we did ….. ThanksGarth                                                                                                                                                                                                                                                                                                                                                                                                                                                                                                                                                                                                                                                                                                                                                                                                                 1\n",
       "Subject: Facial Recognition RequestAttachments:Dear Sir or Madam,  As part of an ongoing investigation by the Boston Police Special Investigations Unit, we are requestingassistance  with facial recognition for the following individual who is in possession of a   License: Lic#: DOB: Please see attached license information, including photograph of said individual.Thank you for your assistance with this matter!Respectfully,Joao Officer Joao J. MonteiroBoston Police Departmen                                                                                                                                                                                                                                                                                                                                                                                                                                                                                                                                                                                                                                          1\n",
       "Name: body, Length: 962, dtype: int64"
      ]
     },
     "execution_count": 98,
     "metadata": {},
     "output_type": "execute_result"
    }
   ],
   "source": [
    "# A lot of those look similar. How many unique emails are there?\n",
    "email_df[request_in_body].body.value_counts()"
   ]
  },
  {
   "cell_type": "code",
   "execution_count": 42,
   "metadata": {},
   "outputs": [
    {
     "data": {
      "text/html": [
       "<div>\n",
       "<style scoped>\n",
       "    .dataframe tbody tr th:only-of-type {\n",
       "        vertical-align: middle;\n",
       "    }\n",
       "\n",
       "    .dataframe tbody tr th {\n",
       "        vertical-align: top;\n",
       "    }\n",
       "\n",
       "    .dataframe thead th {\n",
       "        text-align: right;\n",
       "    }\n",
       "</style>\n",
       "<table border=\"1\" class=\"dataframe\">\n",
       "  <thead>\n",
       "    <tr style=\"text-align: right;\">\n",
       "      <th></th>\n",
       "      <th>from</th>\n",
       "      <th>date</th>\n",
       "      <th>body</th>\n",
       "    </tr>\n",
       "  </thead>\n",
       "  <tbody>\n",
       "    <tr>\n",
       "      <th>4</th>\n",
       "      <td>Dunn, Michael J. [mailto:Michael.J.Dunn@usdoj...</td>\n",
       "      <td>Tuesday, December 20, 2016 2:04 PM</td>\n",
       "      <td>Subject: Hello, I am requesting a facial recog...</td>\n",
       "    </tr>\n",
       "    <tr>\n",
       "      <th>9</th>\n",
       "      <td>Dunn, Michael J. [mailto:Michael.J.Dunn@usdoj...</td>\n",
       "      <td>Tuesday, December 20, 2016 2:04 PM</td>\n",
       "      <td>Subject: Hello, I am requesting a facial recog...</td>\n",
       "    </tr>\n",
       "    <tr>\n",
       "      <th>13</th>\n",
       "      <td>Dunn, Michael J. [mailto:Michael.J.Dunn@usdoj...</td>\n",
       "      <td>Tuesday, December 20, 2016 2:04 PM</td>\n",
       "      <td>Subject: Hello, I am requesting a facial recog...</td>\n",
       "    </tr>\n",
       "    <tr>\n",
       "      <th>17</th>\n",
       "      <td>Dunn, Michael J. [mailto: @usdoj.gov]</td>\n",
       "      <td>Tuesday, December 20, 2016 2:04 PM</td>\n",
       "      <td>Subject: Hello, I am requesting a facial recog...</td>\n",
       "    </tr>\n",
       "    <tr>\n",
       "      <th>20</th>\n",
       "      <td>Dunn, Michael J. [mailto:Michael.J.Dunn@usdoj...</td>\n",
       "      <td>Tuesday, December 20, 2016 2:04 PM</td>\n",
       "      <td>Subject: Hello, I am requesting a facial recog...</td>\n",
       "    </tr>\n",
       "    <tr>\n",
       "      <th>23</th>\n",
       "      <td>Dunn, Michael J. [mailto:Michael.J.Dunn@usdoj...</td>\n",
       "      <td>Tuesday, December 20, 2016 2:04 PM</td>\n",
       "      <td>Subject: Hello, I am requesting a facial recog...</td>\n",
       "    </tr>\n",
       "    <tr>\n",
       "      <th>25</th>\n",
       "      <td>Dunn, Michael J. [mailto:Michael.J.Dunn@usdoj...</td>\n",
       "      <td>Tuesday, December 20, 2016 2:04 PM</td>\n",
       "      <td>Subject: Hello, I am requesting a facial recog...</td>\n",
       "    </tr>\n",
       "    <tr>\n",
       "      <th>27</th>\n",
       "      <td>Dunn, Michael J. [mailto:Michael.J.Dunn@usdoj...</td>\n",
       "      <td>Tuesday, December 20, 2016 2:04 PM</td>\n",
       "      <td>Subject: Hello, I am requesting a facial recog...</td>\n",
       "    </tr>\n",
       "    <tr>\n",
       "      <th>28</th>\n",
       "      <td>Dunn, Michael J.</td>\n",
       "      <td>Tuesday, December 20, 2016 2:05:07 PM</td>\n",
       "      <td>Attachments: IMG_0045.jpgHello, I am requestin...</td>\n",
       "    </tr>\n",
       "    <tr>\n",
       "      <th>29</th>\n",
       "      <td>Dunn, Michael J.</td>\n",
       "      <td>Tuesday, December 20, 2016 2:05:01 PM</td>\n",
       "      <td>Attachments: IMG_0045.jpgHello, I am requestin...</td>\n",
       "    </tr>\n",
       "  </tbody>\n",
       "</table>\n",
       "</div>"
      ],
      "text/plain": [
       "                                                 from  \\\n",
       "4    Dunn, Michael J. [mailto:Michael.J.Dunn@usdoj...   \n",
       "9    Dunn, Michael J. [mailto:Michael.J.Dunn@usdoj...   \n",
       "13   Dunn, Michael J. [mailto:Michael.J.Dunn@usdoj...   \n",
       "17             Dunn, Michael J. [mailto: @usdoj.gov]    \n",
       "20   Dunn, Michael J. [mailto:Michael.J.Dunn@usdoj...   \n",
       "23   Dunn, Michael J. [mailto:Michael.J.Dunn@usdoj...   \n",
       "25   Dunn, Michael J. [mailto:Michael.J.Dunn@usdoj...   \n",
       "27   Dunn, Michael J. [mailto:Michael.J.Dunn@usdoj...   \n",
       "28                                   Dunn, Michael J.   \n",
       "29                                   Dunn, Michael J.   \n",
       "\n",
       "                                      date  \\\n",
       "4       Tuesday, December 20, 2016 2:04 PM   \n",
       "9       Tuesday, December 20, 2016 2:04 PM   \n",
       "13      Tuesday, December 20, 2016 2:04 PM   \n",
       "17      Tuesday, December 20, 2016 2:04 PM   \n",
       "20      Tuesday, December 20, 2016 2:04 PM   \n",
       "23      Tuesday, December 20, 2016 2:04 PM   \n",
       "25      Tuesday, December 20, 2016 2:04 PM   \n",
       "27      Tuesday, December 20, 2016 2:04 PM   \n",
       "28   Tuesday, December 20, 2016 2:05:07 PM   \n",
       "29   Tuesday, December 20, 2016 2:05:01 PM   \n",
       "\n",
       "                                                 body  \n",
       "4   Subject: Hello, I am requesting a facial recog...  \n",
       "9   Subject: Hello, I am requesting a facial recog...  \n",
       "13  Subject: Hello, I am requesting a facial recog...  \n",
       "17  Subject: Hello, I am requesting a facial recog...  \n",
       "20  Subject: Hello, I am requesting a facial recog...  \n",
       "23  Subject: Hello, I am requesting a facial recog...  \n",
       "25  Subject: Hello, I am requesting a facial recog...  \n",
       "27  Subject: Hello, I am requesting a facial recog...  \n",
       "28  Attachments: IMG_0045.jpgHello, I am requestin...  \n",
       "29  Attachments: IMG_0045.jpgHello, I am requestin...  "
      ]
     },
     "execution_count": 42,
     "metadata": {},
     "output_type": "execute_result"
    }
   ],
   "source": [
    "# Are the times the same too?\n",
    "email_df[request_in_body][:10][[\"from\", \"date\", \"body\"]]"
   ]
  },
  {
   "cell_type": "code",
   "execution_count": 103,
   "metadata": {},
   "outputs": [],
   "source": [
    "# Examine the emails that have the most common body text\n",
    "most_common_body_text = email_df[request_in_body].body.value_counts().keys()[0]\n",
    "is_most_common_body_text = email_df.body == most_common_body_text"
   ]
  },
  {
   "cell_type": "code",
   "execution_count": 105,
   "metadata": {},
   "outputs": [
    {
     "data": {
      "text/html": [
       "<div>\n",
       "<style scoped>\n",
       "    .dataframe tbody tr th:only-of-type {\n",
       "        vertical-align: middle;\n",
       "    }\n",
       "\n",
       "    .dataframe tbody tr th {\n",
       "        vertical-align: top;\n",
       "    }\n",
       "\n",
       "    .dataframe thead th {\n",
       "        text-align: right;\n",
       "    }\n",
       "</style>\n",
       "<table border=\"1\" class=\"dataframe\">\n",
       "  <thead>\n",
       "    <tr style=\"text-align: right;\">\n",
       "      <th></th>\n",
       "      <th>from</th>\n",
       "      <th>date</th>\n",
       "      <th>body</th>\n",
       "    </tr>\n",
       "  </thead>\n",
       "  <tbody>\n",
       "    <tr>\n",
       "      <th>857</th>\n",
       "      <td>Walker, Stephen (DOT) [stephen.walker2@state....</td>\n",
       "      <td>Tuesday, November 15, 2016 9:16 AM</td>\n",
       "      <td>Subject: request forms and info.Good morning K...</td>\n",
       "    </tr>\n",
       "    <tr>\n",
       "      <th>860</th>\n",
       "      <td>Walker, Stephen (DOT) [stephen.walker2@state....</td>\n",
       "      <td>Tuesday, November 15, 2016 9:16 AM</td>\n",
       "      <td>Subject: request forms and info.Good morning K...</td>\n",
       "    </tr>\n",
       "    <tr>\n",
       "      <th>863</th>\n",
       "      <td>Walker, Stephen (DOT) [stephen.walker2@state....</td>\n",
       "      <td>Tuesday, November 15, 2016 9:16 AM</td>\n",
       "      <td>Subject: request forms and info.Good morning K...</td>\n",
       "    </tr>\n",
       "    <tr>\n",
       "      <th>866</th>\n",
       "      <td>Walker, Stephen (DOT) [stephen.walker2@state....</td>\n",
       "      <td>Tuesday, November 15, 2016 9:16 AM</td>\n",
       "      <td>Subject: request forms and info.Good morning K...</td>\n",
       "    </tr>\n",
       "    <tr>\n",
       "      <th>868</th>\n",
       "      <td>Walker, Stephen (DOT) [stephen.walker2@state....</td>\n",
       "      <td>Tuesday, November 15, 2016 9:16 AM</td>\n",
       "      <td>Subject: request forms and info.Good morning K...</td>\n",
       "    </tr>\n",
       "    <tr>\n",
       "      <th>1065</th>\n",
       "      <td>Walker, Stephen (DOT) [stephen.walker2@state....</td>\n",
       "      <td>Tuesday, November 15, 2016 9:16 AM</td>\n",
       "      <td>Subject: request forms and info.Good morning K...</td>\n",
       "    </tr>\n",
       "    <tr>\n",
       "      <th>1068</th>\n",
       "      <td>Walker, Stephen (DOT) [stephen.walker2@state....</td>\n",
       "      <td>Tuesday, November 15, 2016 9:16 AM</td>\n",
       "      <td>Subject: request forms and info.Good morning K...</td>\n",
       "    </tr>\n",
       "    <tr>\n",
       "      <th>1071</th>\n",
       "      <td>Walker, Stephen (DOT) [stephen.walker2@state....</td>\n",
       "      <td>Tuesday, November 15, 2016 9:16 AM</td>\n",
       "      <td>Subject: request forms and info.Good morning K...</td>\n",
       "    </tr>\n",
       "    <tr>\n",
       "      <th>1073</th>\n",
       "      <td>Walker, Stephen (DOT) [stephen.walker2@state....</td>\n",
       "      <td>Tuesday, November 15, 2016 9:16 AM</td>\n",
       "      <td>Subject: request forms and info.Good morning K...</td>\n",
       "    </tr>\n",
       "    <tr>\n",
       "      <th>1075</th>\n",
       "      <td>Walker, Stephen (DOT) [stephen.walker2@state....</td>\n",
       "      <td>Tuesday, November 15, 2016 9:16 AM</td>\n",
       "      <td>Subject: request forms and info.Good morning K...</td>\n",
       "    </tr>\n",
       "  </tbody>\n",
       "</table>\n",
       "</div>"
      ],
      "text/plain": [
       "                                                   from  \\\n",
       "857    Walker, Stephen (DOT) [stephen.walker2@state....   \n",
       "860    Walker, Stephen (DOT) [stephen.walker2@state....   \n",
       "863    Walker, Stephen (DOT) [stephen.walker2@state....   \n",
       "866    Walker, Stephen (DOT) [stephen.walker2@state....   \n",
       "868    Walker, Stephen (DOT) [stephen.walker2@state....   \n",
       "1065   Walker, Stephen (DOT) [stephen.walker2@state....   \n",
       "1068   Walker, Stephen (DOT) [stephen.walker2@state....   \n",
       "1071   Walker, Stephen (DOT) [stephen.walker2@state....   \n",
       "1073   Walker, Stephen (DOT) [stephen.walker2@state....   \n",
       "1075   Walker, Stephen (DOT) [stephen.walker2@state....   \n",
       "\n",
       "                                     date  \\\n",
       "857    Tuesday, November 15, 2016 9:16 AM   \n",
       "860    Tuesday, November 15, 2016 9:16 AM   \n",
       "863    Tuesday, November 15, 2016 9:16 AM   \n",
       "866    Tuesday, November 15, 2016 9:16 AM   \n",
       "868    Tuesday, November 15, 2016 9:16 AM   \n",
       "1065   Tuesday, November 15, 2016 9:16 AM   \n",
       "1068   Tuesday, November 15, 2016 9:16 AM   \n",
       "1071   Tuesday, November 15, 2016 9:16 AM   \n",
       "1073   Tuesday, November 15, 2016 9:16 AM   \n",
       "1075   Tuesday, November 15, 2016 9:16 AM   \n",
       "\n",
       "                                                   body  \n",
       "857   Subject: request forms and info.Good morning K...  \n",
       "860   Subject: request forms and info.Good morning K...  \n",
       "863   Subject: request forms and info.Good morning K...  \n",
       "866   Subject: request forms and info.Good morning K...  \n",
       "868   Subject: request forms and info.Good morning K...  \n",
       "1065  Subject: request forms and info.Good morning K...  \n",
       "1068  Subject: request forms and info.Good morning K...  \n",
       "1071  Subject: request forms and info.Good morning K...  \n",
       "1073  Subject: request forms and info.Good morning K...  \n",
       "1075  Subject: request forms and info.Good morning K...  "
      ]
     },
     "execution_count": 105,
     "metadata": {},
     "output_type": "execute_result"
    }
   ],
   "source": [
    "email_df[is_most_common_body_text][[\"from\", \"date\", \"body\"]]"
   ]
  },
  {
   "cell_type": "code",
   "execution_count": null,
   "metadata": {},
   "outputs": [],
   "source": []
  }
 ],
 "metadata": {
  "kernelspec": {
   "display_name": "Python 3",
   "language": "python",
   "name": "python3"
  },
  "language_info": {
   "codemirror_mode": {
    "name": "ipython",
    "version": 3
   },
   "file_extension": ".py",
   "mimetype": "text/x-python",
   "name": "python",
   "nbconvert_exporter": "python",
   "pygments_lexer": "ipython3",
   "version": "3.8.1"
  },
  "toc": {
   "base_numbering": 1,
   "nav_menu": {},
   "number_sections": true,
   "sideBar": true,
   "skip_h1_title": false,
   "title_cell": "Table of Contents",
   "title_sidebar": "Contents",
   "toc_cell": false,
   "toc_position": {},
   "toc_section_display": true,
   "toc_window_display": false
  }
 },
 "nbformat": 4,
 "nbformat_minor": 4
}
